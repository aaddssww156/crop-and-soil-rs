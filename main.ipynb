{
 "cells": [
  {
   "cell_type": "code",
   "execution_count": 1,
   "id": "d8718111-7c93-4d12-9050-14254d25335e",
   "metadata": {
    "execution": {
     "iopub.execute_input": "2025-08-24T09:42:46.370106Z",
     "iopub.status.busy": "2025-08-24T09:42:46.369640Z",
     "iopub.status.idle": "2025-08-24T09:42:46.376295Z",
     "shell.execute_reply": "2025-08-24T09:42:46.375269Z",
     "shell.execute_reply.started": "2025-08-24T09:42:46.370073Z"
    }
   },
   "outputs": [
    {
     "name": "stdout",
     "output_type": "stream",
     "text": [
      "hello world\n"
     ]
    }
   ],
   "source": [
    "print(\"hello world\")"
   ]
  }
 ],
 "metadata": {
  "kernelspec": {
   "display_name": "Python 3 (ipykernel)",
   "language": "python",
   "name": "python3"
  },
  "language_info": {
   "codemirror_mode": {
    "name": "ipython",
    "version": 3
   },
   "file_extension": ".py",
   "mimetype": "text/x-python",
   "name": "python",
   "nbconvert_exporter": "python",
   "pygments_lexer": "ipython3",
   "version": "3.12.3"
  }
 },
 "nbformat": 4,
 "nbformat_minor": 5
}
